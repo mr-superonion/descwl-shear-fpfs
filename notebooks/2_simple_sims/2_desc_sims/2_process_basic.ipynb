{
 "cells": [
  {
   "cell_type": "code",
   "execution_count": 49,
   "id": "b8e8587d-fa1a-4cc8-a534-51a7dea85b58",
   "metadata": {},
   "outputs": [
    {
     "name": "stdout",
     "output_type": "stream",
     "text": [
      "The autoreload extension is already loaded. To reload it, use:\n",
      "  %reload_ext autoreload\n"
     ]
    }
   ],
   "source": [
    "%load_ext autoreload\n",
    "%autoreload 2\n",
    "%matplotlib inline\n",
    "\n",
    "import pickle\n",
    "import numpy as np\n",
    "import matplotlib.pylab as plt\n",
    "import lsst.afw.image as afwImg\n",
    "from descwl_shear_sims.psfs import make_dm_psf\n",
    "import lsst.afw.geom as afwGeom\n",
    "import lsst.geom as geom"
   ]
  },
  {
   "cell_type": "code",
   "execution_count": 27,
   "id": "e2884491-0fbb-40ac-a756-20003b200211",
   "metadata": {},
   "outputs": [],
   "source": [
    "exposure    =   afwImg.ExposureF.readFits(fname)\n",
    "with open('outputs/PSF_test0.pkl', 'rb') as f:\n",
    "     psf_dict= pickle.load(f)\n",
    "psf_dm=make_dm_psf(**psf_dict)\n",
    "        \n",
    "exposure.setPsf(psf_dm)\n",
    "\n",
    "if not exposure.hasPsf():\n",
    "    print(\"exposure doesnot have PSF\")\n",
    "mi      =   exposure.getMaskedImage()\n",
    "im      =   mi.getImage()\n",
    "galData =   im.getArray()\n",
    "# mskDat  =   mi.getMask().getArray()\n",
    "# varDat  =   mi.getVariance().getArray()\n",
    "wcs     =   exposure.getInfo().getWcs()\n",
    "scale   =   wcs.getPixelScale().asArcseconds()\n",
    "image_ny,image_nx= galData.shape\n",
    "\n",
    "nbegin  =   (_DefaultImgSize-image_nx)//2\n",
    "nend    =   nbegin+image_nx"
   ]
  },
  {
   "cell_type": "code",
   "execution_count": 36,
   "id": "4ddcc18a-9755-4996-a5f4-e502c51fffab",
   "metadata": {},
   "outputs": [],
   "source": [
    "im=exposure.getMaskedImage()"
   ]
  },
  {
   "cell_type": "code",
   "execution_count": 34,
   "id": "17b5537d-0fbb-4f40-833d-2227894fab07",
   "metadata": {},
   "outputs": [],
   "source": [
    "psfExp=exposure.getPsf()\n",
    "bbox=exposure.getBBox()\n",
    "bcent=bbox.getCenter()\n",
    "psf1=psfExp.computeImage(geom.Point2I(bcent)).getArray()"
   ]
  },
  {
   "cell_type": "code",
   "execution_count": 58,
   "id": "b6ec2cd5-08c9-4dcb-881a-0ecadc152550",
   "metadata": {},
   "outputs": [],
   "source": [
    "info=exposure.getInfo()"
   ]
  },
  {
   "cell_type": "code",
   "execution_count": 68,
   "id": "6c73f0ba-d260-49aa-8b9e-a73266f53b16",
   "metadata": {},
   "outputs": [
    {
     "name": "stdout",
     "output_type": "stream",
     "text": [
      "None\n"
     ]
    }
   ],
   "source": [
    "print(exposure.getPhotoCalib())"
   ]
  },
  {
   "cell_type": "code",
   "execution_count": 66,
   "id": "8924dcab-0e8d-474f-bddb-c44fcbefb1a0",
   "metadata": {},
   "outputs": [],
   "source": [
    "a=info.getMetadata()"
   ]
  },
  {
   "cell_type": "code",
   "execution_count": 65,
   "id": "d708cfb1-63aa-444e-9a0d-2996f5a771c3",
   "metadata": {},
   "outputs": [
    {
     "name": "stdout",
     "output_type": "stream",
     "text": [
      "EXPINFO_V = 2\n",
      "EXTNAME = \"IMAGE\"\n",
      "\n"
     ]
    }
   ],
   "source": [
    "print(a)"
   ]
  },
  {
   "cell_type": "code",
   "execution_count": 48,
   "id": "29cab28b-5ae4-4ac4-8271-92cc98b6b4b7",
   "metadata": {},
   "outputs": [
    {
     "data": {
      "text/plain": [
       "lsst.geom.Point2D"
      ]
     },
     "execution_count": 48,
     "metadata": {},
     "output_type": "execute_result"
    }
   ],
   "source": [
    "type(bcent)"
   ]
  },
  {
   "cell_type": "code",
   "execution_count": 50,
   "id": "fbdeb337-86b3-4e9c-a2fe-ce7c3e838f16",
   "metadata": {},
   "outputs": [
    {
     "data": {
      "text/plain": [
       "Point2I(205, 205)"
      ]
     },
     "execution_count": 50,
     "metadata": {},
     "output_type": "execute_result"
    }
   ],
   "source": []
  },
  {
   "cell_type": "code",
   "execution_count": null,
   "id": "a8407aa5-85c4-4705-95c5-5130772b30d8",
   "metadata": {},
   "outputs": [],
   "source": [
    "afwGeom.Point2"
   ]
  },
  {
   "cell_type": "code",
   "execution_count": 51,
   "id": "f4d8f0bb-1844-4ddf-9714-0b6290d50598",
   "metadata": {},
   "outputs": [],
   "source": [
    "psf0=psfExp.computeImage(bcent).getArray()\n",
    "psf1=psfExp.computeImage(geom.Point2I(bcent)).getArray()"
   ]
  },
  {
   "cell_type": "code",
   "execution_count": 53,
   "id": "5d26bcc6-e0ed-427f-9dc3-3a25ab33e01e",
   "metadata": {},
   "outputs": [
    {
     "data": {
      "text/plain": [
       "array([[3.78191231e-07, 4.17041690e-07, 4.59861496e-07, ...,\n",
       "        4.59861496e-07, 4.17041690e-07, 3.78191231e-07],\n",
       "       [4.17041690e-07, 4.61822736e-07, 5.11446956e-07, ...,\n",
       "        5.11446956e-07, 4.61822736e-07, 4.17041690e-07],\n",
       "       [4.59861496e-07, 5.11446956e-07, 5.68947485e-07, ...,\n",
       "        5.68947485e-07, 5.11446956e-07, 4.59861496e-07],\n",
       "       ...,\n",
       "       [4.59861496e-07, 5.11446956e-07, 5.68947485e-07, ...,\n",
       "        5.68947485e-07, 5.11446956e-07, 4.59861496e-07],\n",
       "       [4.17041690e-07, 4.61822736e-07, 5.11446956e-07, ...,\n",
       "        5.11446956e-07, 4.61822736e-07, 4.17041690e-07],\n",
       "       [3.78191231e-07, 4.17041690e-07, 4.59861496e-07, ...,\n",
       "        4.59861496e-07, 4.17041690e-07, 3.78191231e-07]])"
      ]
     },
     "execution_count": 53,
     "metadata": {},
     "output_type": "execute_result"
    }
   ],
   "source": [
    "psf1"
   ]
  },
  {
   "cell_type": "code",
   "execution_count": 41,
   "id": "0f3a921a-e39e-4f6e-a82c-30587a812f90",
   "metadata": {},
   "outputs": [
    {
     "data": {
      "text/plain": [
       "(51, 51)"
      ]
     },
     "execution_count": 41,
     "metadata": {},
     "output_type": "execute_result"
    }
   ],
   "source": [
    "psf0.shape"
   ]
  },
  {
   "cell_type": "code",
   "execution_count": 54,
   "id": "5c91f926-470b-4344-ad89-8fa307b1d83a",
   "metadata": {},
   "outputs": [
    {
     "data": {
      "text/plain": [
       "<matplotlib.image.AxesImage at 0x1470bc128160>"
      ]
     },
     "execution_count": 54,
     "metadata": {},
     "output_type": "execute_result"
    },
    {
     "data": {
      "image/png": "[encoded data removed]",
      "text/plain": [
       "<Figure size 640x480 with 1 Axes>"
      ]
     },
     "metadata": {},
     "output_type": "display_data"
    }
   ],
   "source": [
    "plt.imshow(psf0-psf1)"
   ]
  },
  {
   "cell_type": "code",
   "execution_count": 42,
   "id": "454d42a7-9901-437b-8eba-532b40500075",
   "metadata": {},
   "outputs": [
    {
     "data": {
      "text/plain": [
       "0.03364717960357666"
      ]
     },
     "execution_count": 42,
     "metadata": {},
     "output_type": "execute_result"
    }
   ],
   "source": [
    "psf0.max()"
   ]
  },
  {
   "cell_type": "code",
   "execution_count": null,
   "id": "ef1a4cae-0338-44d5-acdd-d5c048e34378",
   "metadata": {},
   "outputs": [],
   "source": []
  }
 ],
 "metadata": {
  "kernelspec": {
   "display_name": "Python 3 (ipykernel)",
   "language": "python",
   "name": "python3"
  },
  "language_info": {
   "codemirror_mode": {
    "name": "ipython",
    "version": 3
   },
   "file_extension": ".py",
   "mimetype": "text/x-python",
   "name": "python",
   "nbconvert_exporter": "python",
   "pygments_lexer": "ipython3",
   "version": "3.10.6"
  }
 },
 "nbformat": 4,
 "nbformat_minor": 5
}

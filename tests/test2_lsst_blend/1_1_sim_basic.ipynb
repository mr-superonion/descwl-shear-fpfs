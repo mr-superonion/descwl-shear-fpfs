{
 "cells": [
  {
   "cell_type": "code",
   "execution_count": 1,
   "id": "b8e8587d-fa1a-4cc8-a534-51a7dea85b58",
   "metadata": {},
   "outputs": [],
   "source": [
    "%load_ext autoreload\n",
    "%autoreload 2\n",
    "%matplotlib inline\n",
    "\n",
    "import galsim\n",
    "import numpy as np\n",
    "import matplotlib.pylab as plt\n",
    "import lsst.afw.image as afwImg\n",
    "from descwl_shear_sims.sim import make_sim\n",
    "from descwl_shear_sims.galaxies import WLDeblendGalaxyCatalog  # one of the galaxy catalog classes\n",
    "from descwl_shear_sims.stars import StarCatalog  # star catalog class\n",
    "from descwl_shear_sims.psfs import make_ps_psf,make_fixed_psf  # for making a power spectrum PSF\n",
    "from descwl_shear_sims.sim import get_se_dim  # convert coadd dims to SE dims"
   ]
  },
  {
   "cell_type": "code",
   "execution_count": 3,
   "id": "a07a9d62-786a-4181-848a-6528585e0e8d",
   "metadata": {},
   "outputs": [],
   "source": [
    "ifield=0\n",
    "itest=0\n",
    "\n",
    "rng = np.random.RandomState(ifield)\n",
    "\n",
    "coadd_dim = 400\n",
    "buff   = 50\n",
    "rotate = False\n",
    "dither = False\n",
    "\n",
    "os.makedirs('outputs/test%d' %itest,exist_ok=True)\n",
    "\n",
    "# this is the single epoch image sized used by the sim, we need\n",
    "# it for the power spectrum psf\n",
    "se_dim = get_se_dim(coadd_dim=coadd_dim, rotate=rotate, dither=dither)\n",
    "\n",
    "\n",
    "nrot= 4\n",
    "g1_list=[0.02,-0.02]\n",
    "band_list=['r', 'i', 'z']\n",
    "rot_list=[np.pi/nrot*i for i in range(nrot)]\n",
    "nshear=len(g1_list)\n",
    "\n",
    "\n",
    "if itest==0:\n",
    "    args={\n",
    "            'cosmic_rays':False,\n",
    "            'bad_columns':False,\n",
    "            'star_bleeds':False,\n",
    "    }\n",
    "    star_catalog=None\n",
    "elif itest==1:\n",
    "    args={\n",
    "            'cosmic_rays':False,\n",
    "            'bad_columns':False,\n",
    "            'star_bleeds':False,\n",
    "    }\n",
    "    star_catalog = StarCatalog(\n",
    "        rng=rng,\n",
    "        coadd_dim=coadd_dim,\n",
    "        buff=buff,\n",
    "        density=(ifield%1000)/10+1,\n",
    "        layout='random_circle',\n",
    "    )\n",
    "elif itest==2:\n",
    "    args={\n",
    "            'cosmic_rays':True,\n",
    "            'bad_columns':True,\n",
    "            'star_bleeds':True,\n",
    "    }\n",
    "    star_catalog = StarCatalog(\n",
    "        rng=rng,\n",
    "        coadd_dim=coadd_dim,\n",
    "        buff=buff,\n",
    "        density=(ifield%1000)/10+1,\n",
    "        layout='random_disk',\n",
    "    )\n",
    "\n",
    "    \n",
    "# galaxy catalog; you can make your own\n",
    "galaxy_catalog = WLDeblendGalaxyCatalog(\n",
    "    rng=rng,\n",
    "    coadd_dim=coadd_dim,\n",
    "    buff=buff,\n",
    "    layout='random_disk',\n",
    ")\n",
    "#psf = make_ps_psf(rng=rng, dim=se_dim)\n",
    "psf = make_fixed_psf(psf_type='moffat')\n",
    "\n",
    "for irot in range(nrot):\n",
    "    for ishear in range(nshear):\n",
    "        sim_data = make_sim(\n",
    "            rng=rng,\n",
    "            galaxy_catalog=galaxy_catalog,\n",
    "            star_catalog=star_catalog,\n",
    "            coadd_dim=coadd_dim,\n",
    "            g1=g1_list[ishear],\n",
    "            g2=0.00,\n",
    "            psf=psf,\n",
    "            dither=dither,\n",
    "            rotate=rotate,\n",
    "            bands=band_list,\n",
    "            noise_factor=0.,\n",
    "            theta0=rot_list[irot],\n",
    "            **args\n",
    "        )\n",
    "        for bb in band_list:\n",
    "            sim_data['band_data'][bb][0].writeFits('outputs/test%d/field%04d_shear%d_rot%d_%s.fits' \\\n",
    "                               %(itest,ifield,ishear,irot,bb))"
   ]
  },
  {
   "cell_type": "code",
   "execution_count": 4,
   "id": "5f982b68-d76c-457b-8341-1c18654cfbe1",
   "metadata": {},
   "outputs": [
    {
     "data": {
      "text/plain": [
       "{'band_data': {'r': [<lsst.afw.image.exposure.ExposureF at 0x14d04187eeb0>],\n",
       "  'i': [<lsst.afw.image.exposure.ExposureF at 0x14d041876370>],\n",
       "  'z': [<lsst.afw.image.exposure.ExposureF at 0x14d040da3330>]},\n",
       " 'coadd_wcs': FITS standard SkyWcs:\n",
       " Sky Origin: (200.0000000000, +0.0000000000)\n",
       " Pixel Origin: (1698.5, 1698.5)\n",
       " Pixel Scale: 0.2 arcsec/pixel,\n",
       " 'psf_dims': (51, 51),\n",
       " 'coadd_dims': (400, 400),\n",
       " 'coadd_bbox': Box2I(corner=Point2I(1000, 450), dimensions=Extent2I(400, 400)),\n",
       " 'bright_info': array([], dtype=int64),\n",
       " 'se_wcs': [galsim.GSFitsWCS(_data = ['TAN', array([205.5, 205.5]), array([[-5.5555555555555565e-05, -0.0], [0.0, 5.5555555555555565e-05]]), coord.CelestialCoord(coord.Angle(3.4911423480046486, coord.radians), coord.Angle(-0.0010171386331415655, coord.radians)), None, None, None]),\n",
       "  galsim.GSFitsWCS(_data = ['TAN', array([205.5, 205.5]), array([[-5.5555555555555565e-05, -0.0], [0.0, 5.5555555555555565e-05]]), coord.CelestialCoord(coord.Angle(3.4911423480046486, coord.radians), coord.Angle(-0.0010171386331415655, coord.radians)), None, None, None]),\n",
       "  galsim.GSFitsWCS(_data = ['TAN', array([205.5, 205.5]), array([[-5.5555555555555565e-05, -0.0], [0.0, 5.5555555555555565e-05]]), coord.CelestialCoord(coord.Angle(3.4911423480046486, coord.radians), coord.Angle(-0.0010171386331415655, coord.radians)), None, None, None])]}"
      ]
     },
     "execution_count": 4,
     "metadata": {},
     "output_type": "execute_result"
    }
   ],
   "source": [
    "sim_data"
   ]
  },
  {
   "cell_type": "code",
   "execution_count": 5,
   "id": "1bda7b49-49b5-4bc0-afb2-0608c35cc0fc",
   "metadata": {},
   "outputs": [
    {
     "data": {
      "text/plain": [
       "<matplotlib.image.AxesImage at 0x14d041969060>"
      ]
     },
     "execution_count": 5,
     "metadata": {},
     "output_type": "execute_result"
    },
    {
     "data": {
      "image/png": "[encoded data removed]",
      "text/plain": [
       "<Figure size 640x480 with 1 Axes>"
      ]
     },
     "metadata": {},
     "output_type": "display_data"
    }
   ],
   "source": [
    "plt.close()\n",
    "plt.imshow(sim_data['band_data']['i'][0].getImage().getArray())"
   ]
  },
  {
   "cell_type": "code",
   "execution_count": 6,
   "id": "79b3a0a4-313f-4d9a-a710-909c113b344b",
   "metadata": {},
   "outputs": [
    {
     "name": "stdout",
     "output_type": "stream",
     "text": [
      "spatially constant with mean: 3.63078 error: 0\n"
     ]
    }
   ],
   "source": [
    "print(sim_data['band_data']['i'][0].getPhotoCalib())"
   ]
  },
  {
   "cell_type": "code",
   "execution_count": 7,
   "id": "889c1c6f-5336-4dfd-92ee-dd42a76c714d",
   "metadata": {},
   "outputs": [],
   "source": [
    "photoCalib=sim_data['band_data']['i'][0].getPhotoCalib()"
   ]
  },
  {
   "cell_type": "code",
   "execution_count": 8,
   "id": "42ba5760-eb7d-4030-9bc9-6d52abec82f9",
   "metadata": {},
   "outputs": [
    {
     "data": {
      "text/plain": [
       "30.0"
      ]
     },
     "execution_count": 8,
     "metadata": {},
     "output_type": "execute_result"
    }
   ],
   "source": [
    "np.log10(photoCalib.getInstFluxAtZeroMagnitude())*2.5"
   ]
  },
  {
   "cell_type": "code",
   "execution_count": 9,
   "id": "36d119ed-9c7c-4ff1-8435-d8c68875bdbe",
   "metadata": {},
   "outputs": [
    {
     "data": {
      "text/plain": [
       "<matplotlib.image.AxesImage at 0x14d041b67700>"
      ]
     },
     "execution_count": 9,
     "metadata": {},
     "output_type": "execute_result"
    },
    {
     "data": {
      "image/png": "[encoded data removed]",
      "text/plain": [
       "<Figure size 640x480 with 1 Axes>"
      ]
     },
     "metadata": {},
     "output_type": "display_data"
    }
   ],
   "source": [
    "plt.close()\n",
    "plt.imshow(sim_data['band_data']['r'][0].getImage().getArray())"
   ]
  },
  {
   "cell_type": "code",
   "execution_count": 10,
   "id": "71589a3f-00b1-4dd2-b7d5-3ff67a9b2c7e",
   "metadata": {},
   "outputs": [
    {
     "data": {
      "text/plain": [
       "0.1999999999375584"
      ]
     },
     "execution_count": 10,
     "metadata": {},
     "output_type": "execute_result"
    }
   ],
   "source": [
    "info=sim_data['band_data']['i'][0].getInfo()\n",
    "wcs=info.getWcs()\n",
    "wcs.getPixelScale().asArcseconds()"
   ]
  },
  {
   "cell_type": "code",
   "execution_count": 11,
   "id": "714a64ca-3b8f-4c0e-9c58-38574ac0432c",
   "metadata": {},
   "outputs": [
    {
     "data": {
      "text/plain": [
       "(51, 51)"
      ]
     },
     "execution_count": 11,
     "metadata": {},
     "output_type": "execute_result"
    }
   ],
   "source": [
    "sim_data['psf_dims']"
   ]
  },
  {
   "cell_type": "code",
   "execution_count": 12,
   "id": "3ffa858a-aee4-4861-a80b-b2875eaf97b2",
   "metadata": {},
   "outputs": [
    {
     "data": {
      "text/plain": [
       "<descwl_shear_sims.psfs.dmpsfs.FixedDMPSF at 0x14d049893920>"
      ]
     },
     "execution_count": 12,
     "metadata": {},
     "output_type": "execute_result"
    }
   ],
   "source": [
    "sim_data['band_data']['i'][0].getPsf()"
   ]
  },
  {
   "cell_type": "code",
   "execution_count": 13,
   "id": "0a2ad43c-6e42-4447-9663-de6a4d0c4f6c",
   "metadata": {},
   "outputs": [
    {
     "name": "stdout",
     "output_type": "stream",
     "text": [
      "Help on method exposureWriteFitsWithOptions in module lsst.afw.image.image._fitsIoWithOptions:\n",
      "\n",
      "exposureWriteFitsWithOptions(dest, options) method of lsst.afw.image.exposure.ExposureF instance\n",
      "    Write an Exposure or MaskedImage to FITS, with options\n",
      "    \n",
      "    Parameters\n",
      "    ----------\n",
      "    dest : `str`\n",
      "        Fits file path to which to write the exposure or masked image.\n",
      "    options : `lsst.daf.base.PropertySet`\n",
      "        Write options. The items \"image\", \"mask\" and \"variance\" are read.\n",
      "        Each must be an `lsst.daf.base.PropertySet` with data for\n",
      "        ``lsst.afw.fits.ImageWriteOptions``.\n",
      "\n"
     ]
    }
   ],
   "source": [
    "help(sim_data['band_data']['i'][0].writeFitsWithOptions)"
   ]
  },
  {
   "cell_type": "code",
   "execution_count": 14,
   "id": "ce811af1-a4a6-4065-8520-a260e789e4b2",
   "metadata": {},
   "outputs": [
    {
     "name": "stdout",
     "output_type": "stream",
     "text": [
      "<descwl_shear_sims.psfs.dmpsfs.FixedDMPSF object at 0x14d049893920>\n"
     ]
    }
   ],
   "source": [
    "print(sim_data['band_data']['i'][0].getPsf())"
   ]
  },
  {
   "cell_type": "code",
   "execution_count": 15,
   "id": "29ce77d3-8a88-4590-9eba-994d602201ba",
   "metadata": {},
   "outputs": [],
   "source": [
    "sim_data['band_data']['i'][0].writeFits('a.fits')"
   ]
  },
  {
   "cell_type": "code",
   "execution_count": 16,
   "id": "d772b6d5-5381-4f1d-931b-23779b4c9e6b",
   "metadata": {},
   "outputs": [
    {
     "name": "stdout",
     "output_type": "stream",
     "text": [
      "None\n"
     ]
    }
   ],
   "source": [
    "exp=afwImg.ExposureD.readFits('a.fits')\n",
    "print(exp.getPsf())"
   ]
  },
  {
   "cell_type": "code",
   "execution_count": 18,
   "id": "65916803-c7a2-4a09-acb3-aa8a9e84459d",
   "metadata": {},
   "outputs": [],
   "source": [
    "import lsst.afw.math as afwMath\n",
    "import lsst.afw.image as afwImg\n",
    "import lsst.afw.geom as afwGeom\n",
    "import lsst.meas.algorithms as meaAlg\n",
    "\n",
    "\n",
    "psfLsst     =   afwImg.ImageF(45,45)\n",
    "psfLsst.getArray()[:,:]= np.zeros((45,45))\n",
    "psfLsst     =   psfLsst.convertD()\n",
    "kernel      =   afwMath.FixedKernel(psfLsst)\n",
    "kernelPSF   =   meaAlg.KernelPsf(kernel)"
   ]
  },
  {
   "cell_type": "code",
   "execution_count": 21,
   "id": "48110e9d-d46c-42e0-a7cf-5a90b0dd1892",
   "metadata": {},
   "outputs": [],
   "source": [
    "exp.setPsf(kernelPSF)\n",
    "exp.writeFits('b.fits')"
   ]
  },
  {
   "cell_type": "code",
   "execution_count": 48,
   "id": "7be3eaae-5cbb-49a8-9a4e-a8c41d005c9e",
   "metadata": {},
   "outputs": [],
   "source": [
    "exp2=afwImg.ExposureF.readFits('b.fits')"
   ]
  },
  {
   "cell_type": "code",
   "execution_count": 51,
   "id": "18881b71-3fa3-4f07-b994-88b9b03dcb38",
   "metadata": {},
   "outputs": [],
   "source": [
    "pp2=exp2.getPsf()"
   ]
  },
  {
   "cell_type": "code",
   "execution_count": 52,
   "id": "77ab6b4b-b61d-47a5-a746-de3f578b42c1",
   "metadata": {},
   "outputs": [
    {
     "name": "stdout",
     "output_type": "stream",
     "text": [
      "Help on method computeImage in module lsst.afw.detection:\n",
      "\n",
      "computeImage(...) method of lsst.meas.algorithms.kernelPsf.KernelPsf instance\n",
      "    computeImage(*args, **kwargs)\n",
      "    Overloaded function.\n",
      "    \n",
      "    1. computeImage(self: lsst.afw.detection.Psf, position: lsst.geom.Point2D, color: lsst.afw.image.Color = <lsst.afw.image.Color object at 0x149c28bc4c70>, owner: lsst.afw.detection.Psf.ImageOwnerEnum = <ImageOwnerEnum.???: 0>) -> lsst::afw::image::Image<double>\n",
      "    \n",
      "    2. computeImage(self: lsst.afw.detection.Psf) -> lsst::afw::image::Image<double>\n",
      "\n"
     ]
    }
   ],
   "source": [
    "help(pp2.computeImage)"
   ]
  },
  {
   "cell_type": "code",
   "execution_count": 43,
   "id": "15f16e98-09d9-451b-8c10-63e511ce6df6",
   "metadata": {},
   "outputs": [],
   "source": [
    "pp=psf.getPSF(galsim.PositionD(0,0))"
   ]
  },
  {
   "cell_type": "code",
   "execution_count": 44,
   "id": "65c83bdf-d635-4055-947c-dc5d4e5004fc",
   "metadata": {},
   "outputs": [
    {
     "data": {
      "text/plain": [
       "galsim.Transformation(galsim.Moffat(beta=2.5, scale_radius=0.7378921305736134, trunc=0.0, flux=1.0, gsparams=galsim.GSParams(128,8192,0.005,5.0,0.001,1e-05,1e-05,1,0.0001,1e-06,1e-06,1e-08,1e-05)), jac=[[1.0149593012438465, 0.008423620428565835], [0.008423620428565835, 0.9853310927399]], offset=galsim.PositionD(x=0.0, y=0.0), flux_ratio=1.0, gsparams=galsim.GSParams(128,8192,0.005,5.0,0.001,1e-05,1e-05,1,0.0001,1e-06,1e-06,1e-08,1e-05), propagate_gsparams=True)"
      ]
     },
     "execution_count": 44,
     "metadata": {},
     "output_type": "execute_result"
    }
   ],
   "source": [
    "pp"
   ]
  },
  {
   "cell_type": "code",
   "execution_count": 46,
   "id": "42d6b25f-9ab0-4ef9-909d-4b54ce1d28bb",
   "metadata": {},
   "outputs": [],
   "source": [
    "psf=sim_data['band_data']['i'][0].getPsf()"
   ]
  },
  {
   "cell_type": "code",
   "execution_count": null,
   "id": "82e5e980-d619-483b-80c8-bcce36483078",
   "metadata": {},
   "outputs": [],
   "source": [
    "psf.computeImage"
   ]
  }
 ],
 "metadata": {
  "kernelspec": {
   "display_name": "Python 3 (ipykernel)",
   "language": "python",
   "name": "python3"
  },
  "language_info": {
   "codemirror_mode": {
    "name": "ipython",
    "version": 3
   },
   "file_extension": ".py",
   "mimetype": "text/x-python",
   "name": "python",
   "nbconvert_exporter": "python",
   "pygments_lexer": "ipython3",
   "version": "3.10.10"
  }
 },
 "nbformat": 4,
 "nbformat_minor": 5
}

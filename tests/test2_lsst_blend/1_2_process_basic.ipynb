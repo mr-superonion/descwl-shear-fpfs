{
 "cells": [
  {
   "cell_type": "code",
   "execution_count": null,
   "id": "b8e8587d-fa1a-4cc8-a534-51a7dea85b58",
   "metadata": {
    "tags": []
   },
   "outputs": [],
   "source": [
    "%load_ext autoreload\n",
    "%autoreload 2\n",
    "%matplotlib inline\n",
    "\n",
    "import numpy as np\n",
    "from fpfs import pltutil\n",
    "import astropy.io.ascii as pyascii\n",
    "import matplotlib.pylab as plt"
   ]
  },
  {
   "cell_type": "code",
   "execution_count": null,
   "id": "270c50bf-5b8b-4b90-b0d3-4c1f82be3160",
   "metadata": {
    "tags": []
   },
   "outputs": [],
   "source": [
    "# make plot\n",
    "plt.close()\n",
    "fig,axes=pltutil.make_figure_axes(ny=2,nx=1,square=False)\n",
    "\n",
    "# read data\n",
    "outs = pyascii.read('sum_basic1/try1_bin_M00.csv')\n",
    "x=outs['binave']\n",
    "y1=outs['mbias']\n",
    "yerr=outs['merr']\n",
    "z1=outs['cbias']\n",
    "zerr=outs['cerr']\n",
    "\n",
    "ax=axes[0]\n",
    "xlabel=r'$m_{\\rm F}$ upper limit';\n",
    "ax.errorbar(np.array(x)+0.04,np.array(y1)*1e2,np.array(yerr)*1e2,label='base sim',color=pltutil.colors[1])\n",
    "\n",
    "ax.set_ylabel('$m$ $[10^{-2}]$',fontsize=18)\n",
    "ax.set_xlim(22.6,25.6)\n",
    "ax.axvline(25.,color='black',ls='-.')\n",
    "ax.set_ylim(-1,1.)\n",
    "\n",
    "ax.invert_xaxis()\n",
    "ax.axhspan(-0.3,0.3,0,100,color='gray',alpha=0.5)\n",
    "ax.grid()\n",
    "\n",
    "\n",
    "ax=axes[1]\n",
    "ax.errorbar(np.array(x)+0.04,np.array(z1)*1e4,np.array(zerr)*1e4,label='base sim',color=pltutil.colors[1])\n",
    "ax.legend()\n",
    "ax.set_ylabel('$c$ $[10^{-4}]$',fontsize=18)\n",
    "ax.set_xlim(22.6,25.6)\n",
    "ax.axvline(25.,color='black',ls='-.')\n",
    "\n",
    "ax.set_ylim(-0.2,0.2)\n",
    "ax.set_xlabel(xlabel,fontsize=18)\n",
    "ax.grid()\n",
    "ax.invert_xaxis()\n",
    "plt.show()"
   ]
  }
 ],
 "metadata": {
  "kernelspec": {
   "display_name": "Python 3 (ipykernel)",
   "language": "python",
   "name": "python3"
  },
  "language_info": {
   "codemirror_mode": {
    "name": "ipython",
    "version": 3
   },
   "file_extension": ".py",
   "mimetype": "text/x-python",
   "name": "python",
   "nbconvert_exporter": "python",
   "pygments_lexer": "ipython3",
   "version": "3.10.10"
  }
 },
 "nbformat": 4,
 "nbformat_minor": 5
}

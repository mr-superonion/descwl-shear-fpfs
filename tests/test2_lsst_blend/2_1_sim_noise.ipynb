{
 "cells": [
  {
   "cell_type": "code",
   "execution_count": 46,
   "id": "b8e8587d-fa1a-4cc8-a534-51a7dea85b58",
   "metadata": {
    "tags": []
   },
   "outputs": [
    {
     "name": "stdout",
     "output_type": "stream",
     "text": [
      "The autoreload extension is already loaded. To reload it, use:\n",
      "  %reload_ext autoreload\n"
     ]
    }
   ],
   "source": [
    "%load_ext autoreload\n",
    "%autoreload 2\n",
    "%matplotlib inline\n",
    "\n",
    "import galsim\n",
    "import numpy as np\n",
    "from fpfs import pltutil\n",
    "import lsst.afw.image as afwImg\n",
    "from descwl_shear_sims.sim import make_sim\n",
    "from descwl_shear_sims.surveys import get_survey, get_wldeblend_rescale_fac\n",
    "from descwl_shear_sims.galaxies import WLDeblendGalaxyCatalog  # one of the galaxy catalog classes\n",
    "from descwl_shear_sims.psfs import make_ps_psf,make_fixed_psf  # for making a power spectrum PSF\n",
    "from descwl_shear_sims.sim import get_se_dim  # convert coadd dims to SE dims"
   ]
  },
  {
   "cell_type": "code",
   "execution_count": 50,
   "id": "a07a9d62-786a-4181-848a-6528585e0e8d",
   "metadata": {
    "tags": []
   },
   "outputs": [
    {
     "name": "stdout",
     "output_type": "stream",
     "text": [
      "0.3150796795795606\n",
      "0.3713810487606338\n",
      "0.5957392307960843\n",
      "1.1550156050041647\n",
      "2.680195928559839\n"
     ]
    },
    {
     "data": {
      "text/plain": [
       "[Text(0, 0, 'g'),\n",
       " Text(1, 0, 'r'),\n",
       " Text(2, 0, 'i'),\n",
       " Text(3, 0, 'z'),\n",
       " Text(4, 0, 'y')]"
      ]
     },
     "execution_count": 50,
     "metadata": {},
     "output_type": "execute_result"
    },
    {
     "data": {
      "image/png": "[encoded data removed]",
      "text/plain": [
       "<Figure size 600x500 with 1 Axes>"
      ]
     },
     "metadata": {},
     "output_type": "display_data"
    }
   ],
   "source": [
    "galaxy_catalog = WLDeblendGalaxyCatalog(\n",
    "    rng=rng,\n",
    "    coadd_dim=coadd_dim,\n",
    "    buff=buff,\n",
    "    layout='random_disk',\n",
    ")\n",
    "\n",
    "\n",
    "nlist = []\n",
    "psf = make_fixed_psf(psf_type='moffat')\n",
    "for bb in ['g', 'r', 'i', 'z', 'y']:\n",
    "    survey = get_survey(gal_type=galaxy_catalog.gal_type, band=bb)\n",
    "    scale = get_wldeblend_rescale_fac(survey.descwl_survey)\n",
    "    print(survey.noise*scale)\n",
    "    nlist.append(survey.noise)\n",
    "nlist= np.array(nlist)\n",
    "\n",
    "fig, axes = pltutil.make_figure_axes(nx=1,ny=1)\n",
    "ax= axes[0]\n",
    "ax.plot(np.arange(5), nlist)\n",
    "ax.set_xticks(np.arange(5))\n",
    "ax.set_xticklabels(['g', 'r', 'i', 'z', 'y'])"
   ]
  },
  {
   "cell_type": "code",
   "execution_count": 36,
   "id": "b49be5a0-b79b-47d0-86b9-7fdef4466351",
   "metadata": {
    "tags": []
   },
   "outputs": [],
   "source": [
    "a = 'field00000_shear1-0_rot0_i.fits'"
   ]
  },
  {
   "cell_type": "code",
   "execution_count": 41,
   "id": "ce15d98c-3474-48f6-8af8-ef8d10f62951",
   "metadata": {
    "tags": []
   },
   "outputs": [
    {
     "data": {
      "text/plain": [
       "212"
      ]
     },
     "execution_count": 41,
     "metadata": {},
     "output_type": "execute_result"
    }
   ],
   "source": [
    "eval(a.split('field')[-1].split('_')[0])+212"
   ]
  },
  {
   "cell_type": "code",
   "execution_count": 51,
   "id": "4da034f9-fd7d-434a-a22c-6a6ef841c745",
   "metadata": {
    "tags": []
   },
   "outputs": [],
   "source": [
    "a=pyfits.getdata('/lustre/work/xiangchong.li/work/FPFS2/sim_desc/test2_basic/field00000_shear1-0_rot0_i.fits')"
   ]
  },
  {
   "cell_type": "code",
   "execution_count": 53,
   "id": "0461eac0-4dc4-41ea-bd36-9aeab48293a8",
   "metadata": {
    "tags": []
   },
   "outputs": [
    {
     "data": {
      "text/plain": [
       "4.159433"
      ]
     },
     "execution_count": 53,
     "metadata": {},
     "output_type": "execute_result"
    }
   ],
   "source": [
    "np.std(a,)"
   ]
  },
  {
   "cell_type": "code",
   "execution_count": null,
   "id": "f6454381-6232-4bad-a5a9-96d315b5f150",
   "metadata": {},
   "outputs": [],
   "source": []
  }
 ],
 "metadata": {
  "kernelspec": {
   "display_name": "Python 3 (ipykernel)",
   "language": "python",
   "name": "python3"
  },
  "language_info": {
   "codemirror_mode": {
    "name": "ipython",
    "version": 3
   },
   "file_extension": ".py",
   "mimetype": "text/x-python",
   "name": "python",
   "nbconvert_exporter": "python",
   "pygments_lexer": "ipython3",
   "version": "3.10.10"
  }
 },
 "nbformat": 4,
 "nbformat_minor": 5
}
